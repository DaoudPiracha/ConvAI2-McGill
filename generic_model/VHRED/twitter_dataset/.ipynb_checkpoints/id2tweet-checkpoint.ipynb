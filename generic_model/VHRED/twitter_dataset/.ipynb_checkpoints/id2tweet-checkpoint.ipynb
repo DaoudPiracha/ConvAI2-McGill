{
 "cells": [
  {
   "cell_type": "code",
   "execution_count": 45,
   "metadata": {},
   "outputs": [],
   "source": [
    "import csv\n",
    "import time\n",
    "from twython import Twython, TwythonError\n",
    "CONSUMER_KEY = \"uEb6mkV5x9bTe9O8nQMTCk3Ej\"\n",
    "CONSUMER_SECRET =  \"Qduw8AunPUn3KxFHQsegY6KW0yV3503HjCgFMYpNlcSRy0PdDS\"\n",
    "OAUTH_TOKEN =  \"4694088007-0rcjZzbxP7p3y53QrJHzrhibqVhBN7xzbps39mm\"\n",
    "OAUTH_TOKEN_SECRET = \"E9ZeVltbKEtgAf2pN3r09FSvCmc5GpjWdarMp5iTP60EL\"\n",
    "twitter = Twython(CONSUMER_KEY, CONSUMER_SECRET,OAUTH_TOKEN, OAUTH_TOKEN_SECRET)\n"
   ]
  },
  {
   "cell_type": "code",
   "execution_count": 52,
   "metadata": {},
   "outputs": [
    {
     "name": "stdout",
     "output_type": "stream",
     "text": [
      "original train dataset size: 10000\n",
      "example:  ['44744480741523456', '44745897082490881', '44771276002304000']\n"
     ]
    }
   ],
   "source": [
    "import csv\n",
    "with open('TweetIDs_Test.txt', 'r') as f:\n",
    "    reader = csv.reader(f, delimiter='\\t')\n",
    "    raw = list(reader)\n",
    "\n",
    "print ('original train dataset size:', len(raw))\n",
    "print ('example: ', raw[0])"
   ]
  },
  {
   "cell_type": "code",
   "execution_count": 53,
   "metadata": {
    "scrolled": false
   },
   "outputs": [
    {
     "name": "stdout",
     "output_type": "stream",
     "text": [
      "10000\n"
     ]
    }
   ],
   "source": [
    "print (len(raw))"
   ]
  },
  {
   "cell_type": "code",
   "execution_count": null,
   "metadata": {},
   "outputs": [
    {
     "name": "stdout",
     "output_type": "stream",
     "text": [
      "progress: 0/10000\n",
      "0\n"
     ]
    }
   ],
   "source": [
    "tweetss = []\n",
    "\n",
    "\n",
    "for k in range(5):\n",
    "    if k%1000 == 0:\n",
    "        print (\"progress: %d/10000\" %(k))\n",
    "        with open(\"tweets_test.csv\", \"w\") as f:\n",
    "            writer = csv.writer(f)\n",
    "            writer.writerows(tweetss)\n",
    "    print (k)\n",
    "    ids = raw[k]\n",
    "    tweets = []\n",
    "    i = 0\n",
    "    while i < len(ids):\n",
    "        id = int(ids[i])\n",
    "        try:\n",
    "            tweet = twitter.show_status(id=id)\n",
    "            tweets.append(tweet['text'])\n",
    "            i += 1\n",
    "        except TwythonError as e:\n",
    "            if e.error_code == 429:\n",
    "                print (e)\n",
    "                with open(\"tweets_test.csv\", \"w\") as f:\n",
    "                    writer = csv.writer(f)\n",
    "                    writer.writerows(tweetss)\n",
    "                time.sleep(15*60) \n",
    "                continue\n",
    "            else:\n",
    "                print (e)\n",
    "                tweets = []\n",
    "                i += 1\n",
    "                break\n",
    "    tweetss.append(tweets)\n"
   ]
  },
  {
   "cell_type": "code",
   "execution_count": 36,
   "metadata": {},
   "outputs": [
    {
     "data": {
      "text/plain": [
       "['44744480741523456', '44745897082490881', '44771276002304000']"
      ]
     },
     "execution_count": 36,
     "metadata": {},
     "output_type": "execute_result"
    }
   ],
   "source": [
    "raw[k]"
   ]
  },
  {
   "cell_type": "code",
   "execution_count": 9,
   "metadata": {},
   "outputs": [
    {
     "name": "stdout",
     "output_type": "stream",
     "text": [
      "569\n"
     ]
    }
   ],
   "source": [
    "tweetss = []\n",
    "for k in range(len(raw)):\n",
    "    print (k)\n",
    "    ids = raw[k]\n",
    "    tweets = []\n",
    "    i = 0\n",
    "    while\n",
    "    for id in ids:\n",
    "        id = int(id)\n",
    "        try:\n",
    "            tweet = twitter.show_status(id=id)\n",
    "            tweets.append(tweet['text'])\n",
    "        except TwythonError as e:\n",
    "            if e.error_code == 429:\n",
    "                time.sleep(15*60) \n",
    "                continue\n",
    "            else:\n",
    "                print (e)\n",
    "                tweets = []\n",
    "                k = k+1\n",
    "                break\n",
    "        \n",
    "#     print (tweets)\n",
    "    tweetss.append(tweets)\n"
   ]
  },
  {
   "cell_type": "code",
   "execution_count": 11,
   "metadata": {},
   "outputs": [],
   "source": [
    "import csv\n",
    "with open(\"test_100.csv\", \"w\") as f:\n",
    "    writer = csv.writer(f)\n",
    "    writer.writerows(tweetss)"
   ]
  },
  {
   "cell_type": "code",
   "execution_count": 60,
   "metadata": {},
   "outputs": [
    {
     "name": "stdout",
     "output_type": "stream",
     "text": [
      "['93451981921857536', '93452742198169600']\n"
     ]
    },
    {
     "ename": "TwythonRateLimitError",
     "evalue": "Twitter API returned a 429 (Too Many Requests), Rate limit exceeded",
     "output_type": "error",
     "traceback": [
      "\u001b[0;31m---------------------------------------------------------------------------\u001b[0m",
      "\u001b[0;31mTwythonRateLimitError\u001b[0m                     Traceback (most recent call last)",
      "\u001b[0;32m<ipython-input-60-a0bac4ace645>\u001b[0m in \u001b[0;36m<module>\u001b[0;34m()\u001b[0m\n\u001b[1;32m      5\u001b[0m     \u001b[0mid\u001b[0m \u001b[0;34m=\u001b[0m \u001b[0mint\u001b[0m\u001b[0;34m(\u001b[0m\u001b[0mid\u001b[0m\u001b[0;34m)\u001b[0m\u001b[0;34m\u001b[0m\u001b[0m\n\u001b[1;32m      6\u001b[0m     \u001b[0;32mtry\u001b[0m\u001b[0;34m:\u001b[0m\u001b[0;34m\u001b[0m\u001b[0m\n\u001b[0;32m----> 7\u001b[0;31m         \u001b[0mtweet\u001b[0m \u001b[0;34m=\u001b[0m \u001b[0mtwitter\u001b[0m\u001b[0;34m.\u001b[0m\u001b[0mshow_status\u001b[0m\u001b[0;34m(\u001b[0m\u001b[0mid\u001b[0m\u001b[0;34m=\u001b[0m\u001b[0mid\u001b[0m\u001b[0;34m)\u001b[0m\u001b[0;34m\u001b[0m\u001b[0m\n\u001b[0m\u001b[1;32m      8\u001b[0m         \u001b[0mtweets\u001b[0m\u001b[0;34m.\u001b[0m\u001b[0mappend\u001b[0m\u001b[0;34m(\u001b[0m\u001b[0mtweet\u001b[0m\u001b[0;34m[\u001b[0m\u001b[0;34m'text'\u001b[0m\u001b[0;34m]\u001b[0m\u001b[0;34m)\u001b[0m\u001b[0;34m\u001b[0m\u001b[0m\n\u001b[1;32m      9\u001b[0m     \u001b[0;32mexcept\u001b[0m \u001b[0mKeyboardInterrupt\u001b[0m\u001b[0;34m:\u001b[0m\u001b[0;34m\u001b[0m\u001b[0m\n",
      "\u001b[0;32m/usr/local/lib/python3.5/dist-packages/twython/endpoints.py\u001b[0m in \u001b[0;36mshow_status\u001b[0;34m(self, **params)\u001b[0m\n\u001b[1;32m     92\u001b[0m \u001b[0;34m\u001b[0m\u001b[0m\n\u001b[1;32m     93\u001b[0m         \"\"\"\n\u001b[0;32m---> 94\u001b[0;31m         \u001b[0;32mreturn\u001b[0m \u001b[0mself\u001b[0m\u001b[0;34m.\u001b[0m\u001b[0mget\u001b[0m\u001b[0;34m(\u001b[0m\u001b[0;34m'statuses/show/%s'\u001b[0m \u001b[0;34m%\u001b[0m \u001b[0mparams\u001b[0m\u001b[0;34m.\u001b[0m\u001b[0mget\u001b[0m\u001b[0;34m(\u001b[0m\u001b[0;34m'id'\u001b[0m\u001b[0;34m)\u001b[0m\u001b[0;34m,\u001b[0m \u001b[0mparams\u001b[0m\u001b[0;34m=\u001b[0m\u001b[0mparams\u001b[0m\u001b[0;34m)\u001b[0m\u001b[0;34m\u001b[0m\u001b[0m\n\u001b[0m\u001b[1;32m     95\u001b[0m \u001b[0;34m\u001b[0m\u001b[0m\n\u001b[1;32m     96\u001b[0m     \u001b[0;32mdef\u001b[0m \u001b[0mlookup_status\u001b[0m\u001b[0;34m(\u001b[0m\u001b[0mself\u001b[0m\u001b[0;34m,\u001b[0m \u001b[0;34m**\u001b[0m\u001b[0mparams\u001b[0m\u001b[0;34m)\u001b[0m\u001b[0;34m:\u001b[0m\u001b[0;34m\u001b[0m\u001b[0m\n",
      "\u001b[0;32m/usr/local/lib/python3.5/dist-packages/twython/api.py\u001b[0m in \u001b[0;36mget\u001b[0;34m(self, endpoint, params, version)\u001b[0m\n\u001b[1;32m    268\u001b[0m     \u001b[0;32mdef\u001b[0m \u001b[0mget\u001b[0m\u001b[0;34m(\u001b[0m\u001b[0mself\u001b[0m\u001b[0;34m,\u001b[0m \u001b[0mendpoint\u001b[0m\u001b[0;34m,\u001b[0m \u001b[0mparams\u001b[0m\u001b[0;34m=\u001b[0m\u001b[0;32mNone\u001b[0m\u001b[0;34m,\u001b[0m \u001b[0mversion\u001b[0m\u001b[0;34m=\u001b[0m\u001b[0;34m'1.1'\u001b[0m\u001b[0;34m)\u001b[0m\u001b[0;34m:\u001b[0m\u001b[0;34m\u001b[0m\u001b[0m\n\u001b[1;32m    269\u001b[0m         \u001b[0;34m\"\"\"Shortcut for GET requests via :class:`request`\"\"\"\u001b[0m\u001b[0;34m\u001b[0m\u001b[0m\n\u001b[0;32m--> 270\u001b[0;31m         \u001b[0;32mreturn\u001b[0m \u001b[0mself\u001b[0m\u001b[0;34m.\u001b[0m\u001b[0mrequest\u001b[0m\u001b[0;34m(\u001b[0m\u001b[0mendpoint\u001b[0m\u001b[0;34m,\u001b[0m \u001b[0mparams\u001b[0m\u001b[0;34m=\u001b[0m\u001b[0mparams\u001b[0m\u001b[0;34m,\u001b[0m \u001b[0mversion\u001b[0m\u001b[0;34m=\u001b[0m\u001b[0mversion\u001b[0m\u001b[0;34m)\u001b[0m\u001b[0;34m\u001b[0m\u001b[0m\n\u001b[0m\u001b[1;32m    271\u001b[0m \u001b[0;34m\u001b[0m\u001b[0m\n\u001b[1;32m    272\u001b[0m     \u001b[0;32mdef\u001b[0m \u001b[0mpost\u001b[0m\u001b[0;34m(\u001b[0m\u001b[0mself\u001b[0m\u001b[0;34m,\u001b[0m \u001b[0mendpoint\u001b[0m\u001b[0;34m,\u001b[0m \u001b[0mparams\u001b[0m\u001b[0;34m=\u001b[0m\u001b[0;32mNone\u001b[0m\u001b[0;34m,\u001b[0m \u001b[0mversion\u001b[0m\u001b[0;34m=\u001b[0m\u001b[0;34m'1.1'\u001b[0m\u001b[0;34m)\u001b[0m\u001b[0;34m:\u001b[0m\u001b[0;34m\u001b[0m\u001b[0m\n",
      "\u001b[0;32m/usr/local/lib/python3.5/dist-packages/twython/api.py\u001b[0m in \u001b[0;36mrequest\u001b[0;34m(self, endpoint, method, params, version)\u001b[0m\n\u001b[1;32m    262\u001b[0m \u001b[0;34m\u001b[0m\u001b[0m\n\u001b[1;32m    263\u001b[0m         content = self._request(url, method=method, params=params,\n\u001b[0;32m--> 264\u001b[0;31m                                 api_call=url)\n\u001b[0m\u001b[1;32m    265\u001b[0m \u001b[0;34m\u001b[0m\u001b[0m\n\u001b[1;32m    266\u001b[0m         \u001b[0;32mreturn\u001b[0m \u001b[0mcontent\u001b[0m\u001b[0;34m\u001b[0m\u001b[0m\n",
      "\u001b[0;32m/usr/local/lib/python3.5/dist-packages/twython/api.py\u001b[0m in \u001b[0;36m_request\u001b[0;34m(self, url, method, params, api_call)\u001b[0m\n\u001b[1;32m    197\u001b[0m                 \u001b[0merror_message\u001b[0m\u001b[0;34m,\u001b[0m\u001b[0;34m\u001b[0m\u001b[0m\n\u001b[1;32m    198\u001b[0m                 \u001b[0merror_code\u001b[0m\u001b[0;34m=\u001b[0m\u001b[0mresponse\u001b[0m\u001b[0;34m.\u001b[0m\u001b[0mstatus_code\u001b[0m\u001b[0;34m,\u001b[0m\u001b[0;34m\u001b[0m\u001b[0m\n\u001b[0;32m--> 199\u001b[0;31m                 retry_after=response.headers.get('X-Rate-Limit-Reset'))\n\u001b[0m\u001b[1;32m    200\u001b[0m         \u001b[0mcontent\u001b[0m \u001b[0;34m=\u001b[0m \u001b[0;34m''\u001b[0m\u001b[0;34m\u001b[0m\u001b[0m\n\u001b[1;32m    201\u001b[0m         \u001b[0;32mtry\u001b[0m\u001b[0;34m:\u001b[0m\u001b[0;34m\u001b[0m\u001b[0m\n",
      "\u001b[0;31mTwythonRateLimitError\u001b[0m: Twitter API returned a 429 (Too Many Requests), Rate limit exceeded"
     ]
    }
   ],
   "source": [
    "ids = raw[7]\n",
    "print (ids)\n",
    "tweets = []\n",
    "for id in ids:\n",
    "    id = int(id)\n",
    "    try:\n",
    "        tweet = twitter.show_status(id=id)\n",
    "        tweets.append(tweet['text'])\n",
    "    except KeyboardInterrupt:\n",
    "        raise\n",
    "\n",
    "tweetss.append(tweets)\n",
    "print (tweets)"
   ]
  },
  {
   "cell_type": "code",
   "execution_count": null,
   "metadata": {},
   "outputs": [],
   "source": []
  }
 ],
 "metadata": {
  "kernelspec": {
   "display_name": "Python 3",
   "language": "python",
   "name": "python3"
  },
  "language_info": {
   "codemirror_mode": {
    "name": "ipython",
    "version": 3
   },
   "file_extension": ".py",
   "mimetype": "text/x-python",
   "name": "python",
   "nbconvert_exporter": "python",
   "pygments_lexer": "ipython3",
   "version": "3.5.2"
  }
 },
 "nbformat": 4,
 "nbformat_minor": 2
}
