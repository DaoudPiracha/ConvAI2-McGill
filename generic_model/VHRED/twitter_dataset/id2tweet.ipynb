{
 "cells": [
  {
   "cell_type": "code",
   "execution_count": 1,
   "metadata": {},
   "outputs": [],
   "source": [
    "import csv\n",
    "import time\n",
    "from twython import Twython, TwythonError\n",
    "CONSUMER_KEY = \"uEb6mkV5x9bTe9O8nQMTCk3Ej\"\n",
    "CONSUMER_SECRET =  \"Qduw8AunPUn3KxFHQsegY6KW0yV3503HjCgFMYpNlcSRy0PdDS\"\n",
    "OAUTH_TOKEN =  \"4694088007-0rcjZzbxP7p3y53QrJHzrhibqVhBN7xzbps39mm\"\n",
    "OAUTH_TOKEN_SECRET = \"E9ZeVltbKEtgAf2pN3r09FSvCmc5GpjWdarMp5iTP60EL\"\n",
    "twitter = Twython(CONSUMER_KEY, CONSUMER_SECRET,OAUTH_TOKEN, OAUTH_TOKEN_SECRET)\n"
   ]
  },
  {
   "cell_type": "code",
   "execution_count": 10,
   "metadata": {},
   "outputs": [
    {
     "name": "stdout",
     "output_type": "stream",
     "text": [
      "original train dataset size: 10000\n",
      "example:  ['44744480741523456', '44745897082490881', '44771276002304000']\n"
     ]
    }
   ],
   "source": [
    "with open('TweetIDs_Test.txt', 'r') as f:\n",
    "    reader = csv.reader(f, delimiter='\\t')\n",
    "    raw = list(reader)\n",
    "\n",
    "print ('original train dataset size:', len(raw))\n",
    "print ('example: ', raw[0])"
   ]
  },
  {
   "cell_type": "code",
   "execution_count": 11,
   "metadata": {},
   "outputs": [
    {
     "name": "stdout",
     "output_type": "stream",
     "text": [
      "progress: 0/10000\n",
      "0\n",
      "Twitter API returned a 403 (Forbidden), User has been suspended.\n",
      "1\n",
      "Twitter API returned a 403 (Forbidden), Sorry, you are not authorized to see this status.\n",
      "2\n",
      "3\n",
      "4\n",
      "Twitter API returned a 404 (Not Found), No status found with that ID.\n"
     ]
    }
   ],
   "source": [
    "tweetss = []\n",
    "\n",
    "for k in range(len(raw)):\n",
    "    if k%1000 == 0:\n",
    "        print (\"progress: %d/10000\" %(k))\n",
    "        with open(\"tweets_test.csv\", \"w\") as f:\n",
    "            writer = csv.writer(f)\n",
    "            writer.writerows(tweetss)\n",
    "    print (k)\n",
    "    ids = raw[k]\n",
    "    tweets = []\n",
    "    i = 0\n",
    "    while i < len(ids):\n",
    "        id = int(ids[i])\n",
    "        try:\n",
    "            tweet = twitter.show_status(id=id)\n",
    "            tweets.append(tweet['text'])\n",
    "            i += 1\n",
    "        except TwythonError as e:\n",
    "            if e.error_code == 429:\n",
    "                print (e)\n",
    "                with open(\"tweets_test.csv\", \"w\") as f:\n",
    "                    writer = csv.writer(f)\n",
    "                    writer.writerows(tweetss)\n",
    "                time.sleep(15*60) \n",
    "                continue\n",
    "            else:\n",
    "                print (e)\n",
    "                tweets = []\n",
    "                i += 1\n",
    "                break\n",
    "    tweetss.append(tweets)\n"
   ]
  },
  {
   "cell_type": "code",
   "execution_count": 8,
   "metadata": {},
   "outputs": [],
   "source": [
    "with open('tweets_test_final.csv', 'r') as f:\n",
    "    reader = csv.reader(f, delimiter='\\t')\n",
    "    test = list(reader)"
   ]
  },
  {
   "cell_type": "code",
   "execution_count": 14,
   "metadata": {},
   "outputs": [],
   "source": [
    "test = [x for x in test if x != []]"
   ]
  },
  {
   "cell_type": "code",
   "execution_count": 15,
   "metadata": {},
   "outputs": [
    {
     "data": {
      "text/plain": [
       "4328"
      ]
     },
     "execution_count": 15,
     "metadata": {},
     "output_type": "execute_result"
    }
   ],
   "source": [
    "for i in test:\n",
    "  "
   ]
  },
  {
   "cell_type": "code",
   "execution_count": 16,
   "metadata": {},
   "outputs": [
    {
     "data": {
      "text/plain": [
       "10000"
      ]
     },
     "execution_count": 16,
     "metadata": {},
     "output_type": "execute_result"
    }
   ],
   "source": []
  },
  {
   "cell_type": "code",
   "execution_count": null,
   "metadata": {},
   "outputs": [],
   "source": []
  }
 ],
 "metadata": {
  "kernelspec": {
   "display_name": "Python 3",
   "language": "python",
   "name": "python3"
  },
  "language_info": {
   "codemirror_mode": {
    "name": "ipython",
    "version": 3
   },
   "file_extension": ".py",
   "mimetype": "text/x-python",
   "name": "python",
   "nbconvert_exporter": "python",
   "pygments_lexer": "ipython3",
   "version": "3.5.2"
  }
 },
 "nbformat": 4,
 "nbformat_minor": 2
}
