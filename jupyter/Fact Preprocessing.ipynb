{
 "cells": [
  {
   "cell_type": "code",
   "execution_count": 16,
   "metadata": {},
   "outputs": [],
   "source": [
    "import pandas as pd"
   ]
  },
  {
   "cell_type": "code",
   "execution_count": 36,
   "metadata": {},
   "outputs": [
    {
     "name": "stderr",
     "output_type": "stream",
     "text": [
      "/anaconda3/lib/python3.6/site-packages/ipykernel_launcher.py:1: ParserWarning: Falling back to the 'python' engine because the 'c' engine does not support regex separators (separators > 1 char and different from '\\s+' are interpreted as regex); you can avoid this warning by specifying engine='python'.\n",
      "  \"\"\"Entry point for launching an IPython kernel.\n"
     ]
    }
   ],
   "source": [
    "#loading the persona-chat dataset\n",
    "temp = pd.read_csv('/Users/Daoud/ParlAI/data/ConvAI2/train_both_original.txt', delimiter='/n', header=None, names=['raw'])"
   ]
  },
  {
   "cell_type": "code",
   "execution_count": 39,
   "metadata": {},
   "outputs": [],
   "source": [
    "#seperating self and partner facts \n",
    "self = temp.loc[temp['raw'].str.contains('your persona:')]\n",
    "partner = temp.loc[temp['raw'].str.contains('partner\\'s persona:')]"
   ]
  },
  {
   "cell_type": "code",
   "execution_count": 41,
   "metadata": {},
   "outputs": [
    {
     "name": "stderr",
     "output_type": "stream",
     "text": [
      "/anaconda3/lib/python3.6/site-packages/ipykernel_launcher.py:1: SettingWithCopyWarning: \n",
      "A value is trying to be set on a copy of a slice from a DataFrame.\n",
      "Try using .loc[row_indexer,col_indexer] = value instead\n",
      "\n",
      "See the caveats in the documentation: http://pandas.pydata.org/pandas-docs/stable/indexing.html#indexing-view-versus-copy\n",
      "  \"\"\"Entry point for launching an IPython kernel.\n",
      "/anaconda3/lib/python3.6/site-packages/ipykernel_launcher.py:2: SettingWithCopyWarning: \n",
      "A value is trying to be set on a copy of a slice from a DataFrame.\n",
      "Try using .loc[row_indexer,col_indexer] = value instead\n",
      "\n",
      "See the caveats in the documentation: http://pandas.pydata.org/pandas-docs/stable/indexing.html#indexing-view-versus-copy\n",
      "  \n"
     ]
    }
   ],
   "source": [
    "#splitting strings to only contain the actual fact\n",
    "self['number'], self['fact'] = zip(*self['raw'].str.split('your persona:'))\n",
    "partner['number'], partner['fact'] = zip(*partner['raw'].str.split('partner\\'s persona:'))\n",
    "\n",
    "#reassigning self and fact, now cleaned and usable\n",
    "self = self[['number', 'fact']]\n",
    "partner = partner[['number', 'fact']]"
   ]
  },
  {
   "cell_type": "code",
   "execution_count": 62,
   "metadata": {},
   "outputs": [
    {
     "data": {
      "text/plain": [
       "4                          i like canning and whittling.\n",
       "5        to stay in shape , i chase cheetahs at the zoo.\n",
       "6       in high school , i came in 6th in the 100 met...\n",
       "7                                i eat exclusively meat.\n",
       "19                          i wish i could live forever.\n",
       "20                    i only date people taller than me.\n",
       "21                             i really like technology.\n",
       "22                                   i like free diving.\n",
       "35                                   i love the beatles.\n",
       "36               i've trouble getting along with family.\n",
       "37                               in allergic to peanuts.\n",
       "38                                i am usually very shy.\n",
       "50           as a child , i won a national spelling bee.\n",
       "51       i've been published in the new yorker magazine.\n",
       "52                                  i am a gourmet cook.\n",
       "53                                   i've perfect pitch.\n",
       "66                                   i've a sweet tooth.\n",
       "67                                     i m a babysitter.\n",
       "68                                   i drive a mercedes.\n",
       "69                   i m the middle child of 3 siblings.\n",
       "70                    i m getting married in six months.\n",
       "82                                         i love pizza.\n",
       "83                        i like reading mystery novels.\n",
       "84          going to the beach is my favorite past time.\n",
       "85                          my son is a football player.\n",
       "86                             i am an american citizen.\n",
       "99                                  i drive a black car.\n",
       "100                                   i like rock music.\n",
       "101                                  i've a black purse.\n",
       "102                my favorite artist is guns and roses.\n",
       "                             ...                        \n",
       "249                                    my name is frank.\n",
       "250     i hope to someday compete professionally or a...\n",
       "264                                        i am a nurse.\n",
       "265                                  i was an army brat.\n",
       "266                 i married my high school sweetheart.\n",
       "267                                        i surf often.\n",
       "268                                   i'm a great baker.\n",
       "280                       i love agatha christie novels.\n",
       "281                  my husband and i've a suicide pact.\n",
       "282     i spend most of my days working at my church ...\n",
       "283     i grow the tallest sunfloweres you ve ever seen.\n",
       "295     i went to school for fashion design and did n...\n",
       "296                i'ven t had to work a day in my life.\n",
       "297       i don t know why my sister in law dislikes me.\n",
       "298                           i think i need botox soon.\n",
       "311                    i really like watching star trek.\n",
       "312                              i like eating pretzels.\n",
       "313                      my favorite band is vnv nation.\n",
       "314                             i work for the railroad.\n",
       "326                     boating is my favorite activity.\n",
       "327                                        i'm a doctor.\n",
       "328                              i live in a large home.\n",
       "329                      i enjoy vacations at the beach.\n",
       "330                         i work for a large hospital.\n",
       "344     i collect stray people like crazy cat ladys c...\n",
       "345                                     i'm 6 feet tall.\n",
       "346                                       i am a genius.\n",
       "347                        my family has moved 40 times.\n",
       "360          as a child , i won a national spelling bee.\n",
       "361          i have a severe phobia of wide open spaces.\n",
       "Name: fact, Length: 100, dtype: object"
      ]
     },
     "execution_count": 62,
     "metadata": {},
     "output_type": "execute_result"
    }
   ],
   "source": [
    "#setting it to be usable for the Stanford Open IE library I cloned\n",
    "partner['fact'][:100].to_csv('../support/Stanford-OpenIE/samples.txt', index = False)\n",
    "partner['fact'][:100]"
   ]
  },
  {
   "cell_type": "code",
   "execution_count": 64,
   "metadata": {},
   "outputs": [
    {
     "name": "stdout",
     "output_type": "stream",
     "text": [
      "Namespace(filename='samples.txt', generate_graph=False, verbose=True)\n",
      "filename = samples.txt\n",
      "Executing command = cd /Users/Daoud/Projects/ConvAI2-McGill/support/Stanford-OpenIE/;cd stanford-openie; java -mx4g -cp \"stanford-openie.jar:stanford-openie-models.jar:lib/*\" edu.stanford.nlp.naturalli.OpenIE ../samples.txt  -format ollie > /tmp/openie/out.txt\n",
      "[main] INFO edu.stanford.nlp.pipeline.StanfordCoreNLP - Adding annotator tokenize\n",
      "[main] INFO edu.stanford.nlp.pipeline.StanfordCoreNLP - Adding annotator ssplit\n",
      "[main] INFO edu.stanford.nlp.pipeline.StanfordCoreNLP - Adding annotator pos\n",
      "Reading POS tagger model from edu/stanford/nlp/models/pos-tagger/english-left3words/english-left3words-distsim.tagger ... done [1.9 sec].\n",
      "[main] INFO edu.stanford.nlp.pipeline.StanfordCoreNLP - Adding annotator lemma\n",
      "[main] INFO edu.stanford.nlp.pipeline.StanfordCoreNLP - Adding annotator depparse\n",
      "Loading depparse model file: edu/stanford/nlp/models/parser/nndep/english_UD.gz ... \n",
      "PreComputed 100000, Elapsed Time: 2.216 (s)\n",
      "Initializing dependency parser done [6.1 sec].\n",
      "[main] INFO edu.stanford.nlp.pipeline.StanfordCoreNLP - Adding annotator natlog\n",
      "[main] INFO edu.stanford.nlp.pipeline.StanfordCoreNLP - Adding annotator openie\n",
      "Loading clause searcher from edu/stanford/nlp/models/naturalli/clauseSearcherModel.ser.gz...done [0.366 seconds]\n",
      "Processing file: ../samples.txt\n",
      "All files have been queued; awaiting termination...\n",
      "DONE processing files. 0 exceptions encountered.\n",
      "[['i', ' chase', ' cheetahs'], ['i', ' stay in', ' shape'], ['i', ' chase cheetahs at', ' zoo'], ['i', ' came in', ' high school'], ['i', ' came in', ' 100 meter dash'], ['i', ' came in', ' 6th'], ['i', ' came in', ' school'], ['i', ' eat', ' exclusively meat'], ['i', ' eat', ' meat'], ['wish i', ' could live forever', ' i'], ['wish i', ' could live', ' i'], ['i', ' love', ' beatles'], [\"i 've trouble\", ' getting along', ' family'], ['i', ' am', ' usually shy'], ['i', ' am', ' shy'], ['i', ' am', ' usually very shy'], ['i', ' am', ' very shy'], ['i', ' won', ' national spelling bee'], ['i', ' won', ' spelling bee'], ['i', ' won spelling bee as', ' child'], ['i', \" 've\", \" 've published\"], ['i', \" 've\", \" 've published in yorker magazine\"], ['i', \" 've\", \" 've published in new yorker magazine\"], ['i', ' am', ' gourmet cook'], ['i', ' drive', ' mercedes'], ['m', ' middle child of', ' 3 siblings'], ['m', ' child of', ' 3 siblings'], ['i', ' reading', ' mystery novels'], ['going', ' is', ' my past time'], ['going', ' is', ' my favorite past time'], ['my son', ' is', ' football player'], ['i', ' am', ' american'], ['i', ' am', ' american citizen'], ['i', ' am', ' citizen'], ['i', ' drive', ' car'], ['i', ' drive', ' black car'], ['my artist', ' is', ' guns'], ['my favorite artist', ' is', ' guns'], ['i', ' wear', ' black'], ['i', ' enjoy', ' going to museums'], ['i', ' enjoy', ' going'], ['i', ' going to', ' museums'], ['i', ' am', ' married'], ['i', ' live in', ' new york city'], ['i', ' live in', ' city'], ['i', ' live in', ' new city'], ['i', ' live in', ' york city'], ['i', ' have', ' ten nieces'], ['i', \" 'm\", ' writer'], ['i', ' am', ' bank teller'], ['my phone', ' is as', ' iphone'], ['my favorite phone', ' is as', ' iphone'], ['love', ' go', ' hiking'], ['i', ' watching', ' football games'], ['i', ' am proofreader for', ' card company'], ['i', ' am proofreader for', ' greeting card company'], ['i', ' am', ' proofreader'], ['my favorite movie', ' is', ' goodfellas'], ['my movie', ' is', ' goodfellas'], ['i', ' now live in', ' mexico'], ['i', ' live in', ' new mexico'], ['i', ' live in', ' mexico'], ['i', ' now live in', ' new mexico'], ['i', \" 'm\", ' orphan'], ['my book', ' is', ' enders game'], ['my favorite book', ' is', ' enders game'], ['my favorite book', ' is', ' game'], ['my book', ' is', ' game'], ['i', ' am', ' veteran'], ['i', ' have', ' garden'], ['my season', ' is', ' summer'], ['my favorite season', ' is', ' summer'], ['i', \" 'm\", ' headed to university of michigan in fall'], ['i', \" 'm headed to\", ' university'], ['i', \" 'm\", ' headed'], ['i', \" 'm\", ' headed to university in fall'], ['i', \" 'm headed to\", ' university of michigan'], ['i', \" 'm headed in\", ' fall'], ['i', ' be doctor', ' i graduate'], ['i', ' be doctor', ' when i graduate'], ['i', ' am', ' farmer'], ['my hobbies', ' include', ' photography'], ['i', ' travel', ' world'], ['i', ' have', ' two pet dogs'], ['i', ' have', ' two dogs'], ['my music genre', ' is', ' rock'], ['my favorite music genre', ' is', ' rock'], ['my mom', ' is', ' my friend'], ['my mom', ' is', ' my best friend'], ['m', ' general manager of', ' local grocery store'], ['m', ' manager of', ' local grocery store'], ['m', ' manager of', ' grocery store'], ['m', ' general manager of', ' grocery store'], ['i', ' spend', ' weekends'], ['my hobbies', ' include', ' reading'], ['my name', ' is', ' frank'], ['i', ' hope', ' someday compete'], ['i', ' hope', ' someday compete professionally'], ['i', ' hope', ' compete'], ['i', ' hope', ' compete professionally'], ['i', ' am', ' nurse'], ['i', ' was', ' army brat'], ['i', ' married', ' my high school sweetheart'], ['i', ' married', ' my school sweetheart'], ['i', \" 'm\", ' great'], ['i', \" 'm\", ' great baker'], ['i', \" 'm\", ' baker'], ['my husband', \" 've\", ' suicide pact'], ['my husband', \" 've\", ' i'], ['i', ' spend', ' most of my days'], ['i', ' spend', ' most of my days working at my church'], ['i', ' spend', ' most'], ['i', ' spend', ' most of my days working'], ['did', ' nothing with', ' it'], ['nothing', ' is with', ' it'], ['i', ' did', ' nothing'], ['i', ' went for', ' fashion design'], ['i', ' did', ' nothing with it'], ['i', ' went to', ' school'], ['ven t', ' had', ' work'], ['ven t', ' work day in', ' my life'], ['ven t', ' had', ' work in my life'], ['ven t', ' work in', ' my life'], ['ven t', ' work', ' day'], ['my sister', ' is in', ' law dislikes'], ['i', ' watching', ' star trek'], ['i', ' really watching', ' star trek'], ['i', ' eating', ' pretzels'], ['my band', ' is', ' vnv nation'], ['my favorite band', ' is', ' vnv nation'], ['boating', ' is', ' my favorite activity'], ['boating', ' is', ' my activity'], ['i', \" 'm\", ' doctor'], ['i', ' live in', ' home'], ['i', ' live in', ' large home'], ['i', ' enjoy vacations at', ' beach'], ['i', ' enjoy', ' vacations'], ['i', ' collect', ' stray people'], ['i', ' collect', ' stray people like cat ladys'], ['people', ' collect', ' cats'], ['stray people', ' collect', ' cats'], ['i', ' collect', ' stray people like crazy cat ladys'], ['i', ' collect', ' people like crazy cat ladys'], ['i', ' collect', ' people'], ['i', ' collect', ' people like cat ladys'], ['i', \" 'm\", ' tall'], ['i', \" 'm tall\", ' 6 feet'], ['i', ' am', ' genius'], ['my family', ' has moved', ' 40 times'], ['i', ' won', ' national spelling bee'], ['i', ' won', ' spelling bee'], ['i', ' won spelling bee as', ' child'], ['i', ' have', ' severe phobia of wide spaces'], ['i', ' have', ' severe phobia of spaces'], ['i', ' have', ' severe phobia of wide open spaces'], ['i', ' have', ' phobia'], ['i', ' have', ' phobia of wide spaces'], ['i', ' have', ' severe phobia'], ['i', ' have', ' phobia of open spaces'], ['i', ' have', ' phobia of wide open spaces'], ['i', ' have', ' phobia of spaces'], ['i', ' have', ' severe phobia of open spaces']]\n"
     ]
    }
   ],
   "source": [
    "#calling OpenIE wrapper, ideally want to call the submodule\n",
    "! python ../support/Stanford-OpenIE/main.py -f samples.txt -v\n"
   ]
  },
  {
   "cell_type": "markdown",
   "metadata": {},
   "source": [
    "### Key Problems\n",
    "- Doesn;t deal with conjugations well. stuff like i'm a doctor become [i, m, doctor] instead of [i, am, doctor]\n",
    "- Confused in cased of I live in New York City. become [i, live, New York City] but also [i, live, new], [i,live, city] and [i, live, new city]"
   ]
  },
  {
   "cell_type": "code",
   "execution_count": null,
   "metadata": {
    "collapsed": true
   },
   "outputs": [],
   "source": []
  }
 ],
 "metadata": {
  "kernelspec": {
   "display_name": "Python 3",
   "language": "python",
   "name": "python3"
  },
  "language_info": {
   "codemirror_mode": {
    "name": "ipython",
    "version": 3
   },
   "file_extension": ".py",
   "mimetype": "text/x-python",
   "name": "python",
   "nbconvert_exporter": "python",
   "pygments_lexer": "ipython3",
   "version": "3.6.3"
  }
 },
 "nbformat": 4,
 "nbformat_minor": 2
}
